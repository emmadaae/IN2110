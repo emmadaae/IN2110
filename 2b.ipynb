{
 "cells": [
  {
   "cell_type": "markdown",
   "metadata": {},
   "source": [
    "## Del 1: Maskinoversettelse \n",
    "#### Laget av Emma, Morten og Mark"
   ]
  },
  {
   "cell_type": "markdown",
   "metadata": {},
   "source": [
    "Vi skal bruke en (nevral) maskinoversettelsemodell til å oversette filmtekstinger fra Ringenes Herre (og Hobbiten) fra tysk til engelsk."
   ]
  },
  {
   "cell_type": "markdown",
   "metadata": {},
   "source": [
    "<b>NB:</b> Vi har skrevet ferdig kode på python filen, det vil si at vi importerer den når vi skal ta i bruk alle metoder, osv..."
   ]
  },
  {
   "cell_type": "markdown",
   "metadata": {},
   "source": [
    "#### Komme i gang"
   ]
  },
  {
   "cell_type": "markdown",
   "metadata": {},
   "source": [
    "<b>Viktig:</b> oversettelsmodeller krever at alle ordene med små bokstaver. Derfor må vi forvandle alle linjene til lowercase. Vi har brukt følgende python script for å få til alle filer vi trenger for del 1:"
   ]
  },
  {
   "cell_type": "code",
   "execution_count": 1,
   "metadata": {},
   "outputs": [],
   "source": [
    "with open(\"lotr.de\") as fd_in, open(\"lotr.lc.de\", \"w\") as fd_out:\n",
    "    for line in fd_in:\n",
    "        fd_out.write(line.lower())\n",
    "\n",
    "with open(\"lotr.lc.de\") as fd_in_en, open(\"lotr.small.lc.de\", \"w\") as fd_out_to:\n",
    "    for line in fd_in_en:\n",
    "        fd_out_to.write(line.lower())\n"
   ]
  },
  {
   "cell_type": "markdown",
   "metadata": {},
   "source": [
    "Etter at vi har forvandlet alle linjene til lowercase, lager vi en liten testfil med de første 100 linjene av filmtekstingene. Vi bruker kommandoen som er gitt i obligen, det vil si: <br> <br>\n",
    "<b> $ head -n 100 lotr.lc.de > lotr.small.lc.de. </b> <br><br>\n",
    "Som en konsekvens, kjører vi OpenNMT på filen. \n",
    "\n",
    "<b> $ onmt_translate --batch_size 5 --beam_size 3 --model de2en.pt --src lotr.small.lc.de --output lotr.small.out.en </b> <br> <br> Som en liten test, kjører vi følgende kode for å se om resultatet stemmer over det som er blitt gitt på oblig-pdfen. Det er viktig å merke seg at vi gjør samme prosess for del 1, det vil si at i stedenfor 100 linjer, så tar vi med alle setninger som er i filen.  "
   ]
  },
  {
   "cell_type": "code",
   "execution_count": 2,
   "metadata": {},
   "outputs": [
    {
     "name": "stdout",
     "output_type": "stream",
     "text": [
      "the world is changing .\n",
      "\n",
      "i feel it in the water .\n",
      "\n",
      "i feel it in the world .\n",
      "\n",
      "i smell it in the air .\n",
      "\n",
      "a lot of what once was , is lost because nobody lives more , who remembers .\n",
      "\n",
      "it started with the back of the big rings .\n",
      "\n",
      "three were given the elben , the immortal , weisesten and reinsten of all creatures .\n",
      "\n"
     ]
    }
   ],
   "source": [
    "sentences = open(\"lotr.small.out.en\", \"r\")\n",
    "sentence = sentences.readlines()\n",
    "for x in range(7):\n",
    "    print(sentence[x])"
   ]
  },
  {
   "cell_type": "markdown",
   "metadata": {},
   "source": [
    "Et ting som vi har legget merket til, og som også nevnes i obligen, er at det finnes noen <b>\"spesielle\"</b>ord, nemlig \"unk\"-ordene, som viser at modellen ikke har klart å oversette noen tyske ord. <br>\n",
    "\n",
    "Setningen på engelsk ser ut sånn: <br><br>\n",
    "<b>three were given the \"unk\" , the immortal , \"unk\" and \"unk\" of all creatures .</b> <br><br>\n",
    "Mens setningen på tysk er nemlig: <br><br>\n",
    "<b>3 wurden den Elben gegeben , den unsterblichen , weisesten und reinsten aller Wesen . </b> <br><br>\n",
    "\n",
    "OpenNMT tilbyr da en måte å erstatte ukjente ord med ordene i kildespråket (altså tysk) som har høyest \"attention weight\" ved generering av hvert \"unk\"-ord. Mekanisme aktiveres ved å legge til <b>-replace_unk:</b><br><br>\n",
    "<b>$ onmt_translate --batch_size 5 --beam_size 3  --model de2en.pt --src lotr.small.lc.de --output lotr.small.out.en --replace_unk</b>"
   ]
  },
  {
   "cell_type": "code",
   "execution_count": 3,
   "metadata": {},
   "outputs": [
    {
     "name": "stdout",
     "output_type": "stream",
     "text": [
      "three were given the elben , the immortal , weisesten and reinsten of all creatures .\n",
      "\n"
     ]
    }
   ],
   "source": [
    "# Sjekker hva vi får på linje 7 en gang til.\n",
    "sentences = open(\"lotr.small.out.en\", \"r\")\n",
    "sentence = sentences.readlines()\n",
    "print(sentence[6])"
   ]
  },
  {
   "cell_type": "markdown",
   "metadata": {},
   "source": [
    "#### a) Utvikling av en frasetabell (2 poeng)"
   ]
  },
  {
   "cell_type": "markdown",
   "metadata": {},
   "source": [
    "Vi skal nå sørge for at systemet blir bedre på å oversette ukjente ord som \"Elben\". OpenNMT tilbyr da en postprosessringsmekanisme for å håndtere ukjente ord med en såkalt frasetabell, altså en slags ordbok. Før vi tok i bruk kommandoen som tar ordboken og bytter ordene mellom tysk og engelsk, ville vi se hvordan setningene så ut før vi konverterte dem. Vi tok i bruk følgende kode-snitt og fikk følgende setninger: "
   ]
  },
  {
   "cell_type": "code",
   "execution_count": 4,
   "metadata": {},
   "outputs": [
    {
     "name": "stdout",
     "output_type": "stream",
     "text": [
      "10 because these rings bargen the force and the will to lead every people .\n",
      "\n",
      "11 but they all cheated .\n",
      "\n",
      "12 because a ring was made .\n",
      "\n",
      "13 in mordor , in the feuer of the schicksalsberges schmiedete of the dark herrscher sauron , the dark herrscher sauron heimlich a meisterring to beherrschen everyone else .\n",
      "\n",
      "14 in this ring , his cruelty , his bosheit and his will , went to unterdrücken all life .\n",
      "\n",
      "15 a ring to knechten them .\n",
      "\n"
     ]
    }
   ],
   "source": [
    "# Det er verdt å nevne at vi markerte alle ord som kunne ikke oversettes med svart. \n",
    "# På denne måten kunne vi kjøre kommandoen og se forskjellen. \n",
    "sentences = open(\"lotr.small.out.en\", \"r\")\n",
    "sentence = sentences.readlines()\n",
    "for x in range(9, 15):\n",
    "    print(str(x + 1) + \" \" + sentence[x])"
   ]
  },
  {
   "cell_type": "markdown",
   "metadata": {},
   "source": [
    "10 because these rings are <b>bargen</b> the force and the will to lead every people . <br>\n",
    "\n",
    "11 but they all cheated . <br>\n",
    "\n",
    "12 because a ring was made . <br>\n",
    "\n",
    "13 in mordor , in the  <b>feuer</b> of the  <b>schicksalsberges schmiedete</b>  of the dark  <b>herrscher</b> sauron , the dark  <b>herrscher</b> sauron  <b>heimlich</b> a  <b>meisterring</b> to  <b>beherrschen</b> everyone else . <br>\n",
    "\n",
    "14 in this ring , his cruelty , his  <b>bosheit</b> and his will , would  <b>unterdrücken</b> all life . <br>\n",
    "\n",
    "15 a ring to  <b>knechten</b> them . <br>"
   ]
  },
  {
   "cell_type": "markdown",
   "metadata": {},
   "source": [
    "#### Kommandoen før vi begynner å løse oppgaven: "
   ]
  },
  {
   "cell_type": "markdown",
   "metadata": {},
   "source": [
    "Nå som vi vet hva vi skal gjøre videre, kan vi da kjøre følgende kommando og svare på spørsmålene: <br>\n",
    "$ onmt_translate --batch_size 5 --beam_size 3 --model de2en.pt --src lotr.small.lc.de --output lotr.small.out_with_dic.en --replace_unk --phrase_table de-en.txt"
   ]
  },
  {
   "cell_type": "markdown",
   "metadata": {},
   "source": [
    "### Oppgaver: "
   ]
  },
  {
   "cell_type": "markdown",
   "metadata": {},
   "source": [
    "I dette tilfelle bruker vi samme kode som ovenfor, med det eneste forskjellen er at vi bruker den filen som ble generert denne gangen, altså filen som inneholder setningen oversatt med ordboken. Her er setningene: <br>"
   ]
  },
  {
   "cell_type": "markdown",
   "metadata": {},
   "source": [
    "#### 1. Hva er modellens oversettelse for linjene 10-15?"
   ]
  },
  {
   "cell_type": "code",
   "execution_count": 10,
   "metadata": {},
   "outputs": [
    {
     "name": "stdout",
     "output_type": "stream",
     "text": [
      "10 because these rings bargen the force and the will to lead every people .\n",
      "\n",
      "11 but they all cheated .\n",
      "\n",
      "12 because a ring was made .\n",
      "\n",
      "13 in mordor , in the fieriness of the bmount doom schmiedete of the dark lord sauron , the dark lord sauron backdoor a meisterring to mastery everyone else .\n",
      "\n",
      "14 in this ring , his cruelty , his cattiness and his will , went to bottle up all life .\n",
      "\n",
      "15 a ring to enslave them .\n",
      "\n"
     ]
    }
   ],
   "source": [
    "sentences = open(\"lotr.small.out_with_dic.en\", \"r\")\n",
    "sentence = sentences.readlines()\n",
    "for x in range(9, 15):\n",
    "   print(str(x + 1) + \" \" + sentence[x])"
   ]
  },
  {
   "cell_type": "markdown",
   "metadata": {},
   "source": [
    "PRED AVG SCORE: -0.5285, PRED PPL: 1.6964\n",
    "\n",
    "før oversettelse med ordbok: <br>\n",
    "10 because these rings are bargen the force and the will to lead every people . <br>\n",
    "11 but they all cheated .<br>\n",
    "12 because a ring was made .<br>\n",
    "13 in mordor , in the feuer of the schicksalsberges schmiedete of the dark herrscher sauron , the dark herrscher sauron heimlich a meisterring to beherrschen everyone else .<br>\n",
    "14 in this ring , his cruelty , his bosheit and his will , would unterdrücken all life .<br>\n",
    "15 a ring to knechten them .<br>\n",
    "\n",
    "etter oversettelse:<br>\n",
    "10 because these rings are bargen the force and the will to lead every people .<br>\n",
    "11 but they all cheated .<br>\n",
    "12 because a ring was made .<br>\n",
    "13 in mordor , in the fieriness of the schicksalsberges schmiedete of the dark lord sauron , the dark lord sauron backdoor a meisterring to mastery everyone else . <br>\n",
    "14 in this ring , his cruelty , his cattiness and his will , would bottle up all life .<br>\n",
    "15 a ring to enslave them .<br>"
   ]
  },
  {
   "cell_type": "markdown",
   "metadata": {},
   "source": [
    "#### 2. Finn et eksempel hvor bruk av ordboken førte til en dårlig oversettelse."
   ]
  },
  {
   "cell_type": "markdown",
   "metadata": {},
   "source": [
    "I linje 74 står det i den engelske oversettelsen \"Oh, the long-expected party .\" \n",
    "Dette har med orboken blitt oversatt til \" the langerwartete is solid .\" \n",
    "ordet \"langewartete\" på tysk kan bli oversatt til engelsk til \"long awaited\" eller \"long-expected\".\n",
    "Setningen i seg selv, dersom vi også oversetter ordet, gir ikke mening. Vil derfor konkludere med at dette \n",
    "er et eksempel der oversettelsen er realtivt dårlig ved bruk av ordboken.\n",
    "\n",
    "Et eksempel som vi kunne finne hvor bruken av ordboken førte til en dårlig oversettelse kan være i linje 13, hvor den klarte ikke helt å oversette det som tidligere var tyske ord, nemlig, \"schicksalsberges schmiedete\". "
   ]
  },
  {
   "cell_type": "markdown",
   "metadata": {},
   "source": [
    "#### 3. Lage en liste med minst 10 ord som systematisk er feil oversatt (som f.eks. “Beutlin” som bør oversettes til “Baggins”) og legge disse i frasetabellen de-en.txt."
   ]
  },
  {
   "cell_type": "markdown",
   "metadata": {},
   "source": [
    "Det vi gjorde er å printe alle setninger som ligger i filene <b>\"lotr.small.out.en\"</b> og <b> \"lotr.small.out_with_dic.en\" </b>. Med dette, var vi i stand om setningen forandret seg, altså om den tyske ordet ble forandre til et engelsk ord. Hvis dette ikke er tilfelle, fant vi en oversettelse av ordet og satt det i filen som inneholder tyske-engelsk ord. Her er en liste over ordene: <br>\n",
    "beutlin - Baggins <br>\n",
    "elben - elves <br>\n",
    "handverkern - craftsmen <br>\n",
    "auenland - shire <br>\n",
    "schicksalsberges - mount doom <br>\n",
    "herrscher - lord <br>\n",
    "ringes - ring  <br>\n",
    "!langewartete - long awaited <br> \n",
    "giltst - labeled <br>\n",
    "weisesten - wisest <br>\n",
    "reinsten - purest <br>"
   ]
  },
  {
   "cell_type": "markdown",
   "metadata": {},
   "source": [
    "### b) Evaluering (4 poeng)"
   ]
  },
  {
   "cell_type": "markdown",
   "metadata": {},
   "source": [
    "I denne delen er nå vi klare til å evaluere kvaliteten på oversettelsene vi har generert. Her bruker vi en evalueringsmetode som er veldig populær i maskinoversettelse, nemlig BLEU. "
   ]
  },
  {
   "cell_type": "markdown",
   "metadata": {},
   "source": [
    "#### Oppgaver"
   ]
  },
  {
   "cell_type": "code",
   "execution_count": 11,
   "metadata": {},
   "outputs": [],
   "source": [
    "import oblig2b as maskin"
   ]
  },
  {
   "cell_type": "markdown",
   "metadata": {},
   "source": [
    "#### 1. Fyll ut resten av funksjonen compute_precision(ref_file, output_file, ngram_order) som beregner precision-verdien (som definert over) for en gitt N-gram ordre. "
   ]
  },
  {
   "cell_type": "markdown",
   "metadata": {},
   "source": [
    "(Sjekk .py filen for compute_precision funksjonen"
   ]
  },
  {
   "cell_type": "markdown",
   "metadata": {},
   "source": [
    "#### 2. Kjør OpenNMT på hele filen lotr.de (husk å konvertere den til lowercase først) uten frasetabell og beregne BLEU-scoren ved å kalle funksjonen compute_bleu(ref_file, output_file), som allerede er implementert."
   ]
  },
  {
   "cell_type": "code",
   "execution_count": 12,
   "metadata": {},
   "outputs": [
    {
     "name": "stdout",
     "output_type": "stream",
     "text": [
      "0.22995760630328946\n"
     ]
    }
   ],
   "source": [
    "print(maskin.compute_bleu(\"lotr.en\", \"lotr.small.out.en\"))"
   ]
  },
  {
   "cell_type": "markdown",
   "metadata": {},
   "source": [
    "Det er verdt å nevne at det tok oss veldig langt å skjønne oppgaven. Etter lange netter med ulike type tester og lesing, klarte vi å komme med en metode som ga oss akkurat det tallet dere letter nemlig, 0.229.. Dette har vi klart ved å bruke filene vi genererte med \"kommandoene\" fra obligen. "
   ]
  },
  {
   "cell_type": "markdown",
   "metadata": {},
   "source": [
    "#### 3. Kjør OpenNMT på hele filen lotr.de, denne gang med frasetabellen som du har redigert, og beregne BLEU-scoren."
   ]
  },
  {
   "cell_type": "code",
   "execution_count": 13,
   "metadata": {},
   "outputs": [],
   "source": [
    "#print(maskin.compute_bleu(\"lotr.en\", \"lotr.small.out_with_dic.en\"))"
   ]
  },
  {
   "cell_type": "markdown",
   "metadata": {},
   "source": [
    "Følgende funksjon gir oss et resultat på 0.23367... I obligen står det at det skal ligge mellom 0.235 og 0.24, så her her vi bommet med 0.002 %, men vi regner med at det ikke gjør en så stor forksjell, men ellers så har vi regnet det dere lettet etter. "
   ]
  },
  {
   "cell_type": "markdown",
   "metadata": {},
   "source": [
    "## Del 2: Interaktive systemer (4 poeng)"
   ]
  },
  {
   "cell_type": "markdown",
   "metadata": {},
   "source": [
    "I denne delen av oppgaven skal vi utvikle en liten \"retrieval-based chatbot\" basert på korpuset i \"lotr.en\", altså den vi brukte i forrige del-oppgave."
   ]
  },
  {
   "cell_type": "markdown",
   "metadata": {},
   "source": [
    "Før vi satt oss med denne oppgaven, lagde vi en liste over ting vi skulle gjøre, som for eksempel beregne TF-IDF til \"queryen\" som settes av brukeren, og lette etter en setning i korpuset som ligner mest på inputsetningen ved å beregne \"cosine similiarity\". <br> Alt i alt, er vi fornøyd med denne delen, siden det tok oss mindre enn 5 min for å løse denne. (VI GIR OSS MULIGHETEN TIL Å SKRYTE AV DET, SIDEN DET TOK OSS LEGIT 5 MIN ;)) "
   ]
  },
  {
   "cell_type": "code",
   "execution_count": 14,
   "metadata": {},
   "outputs": [
    {
     "name": "stdout",
     "output_type": "stream",
     "text": [
      "i 'm sorry , do i know you ? \n"
     ]
    }
   ],
   "source": [
    "from oblig2b import RetrievalChatbot\n",
    "chat = RetrievalChatbot(\"lotr.en\")\n",
    "print(chat.get_response(\"Are you Bilbo Baggins ?\"))"
   ]
  },
  {
   "cell_type": "markdown",
   "metadata": {},
   "source": [
    "<b> Kommentarer: </b>Vi synes denne obligen var den mest spennende av alle. Vi lærte ekstremt mye og jobbet gasnke bra med denne. Takk for rettelsene dette semesteret og ønskere deg, som retter, lykke til videre."
   ]
  }
 ],
 "metadata": {
  "kernelspec": {
   "display_name": "Python 3",
   "language": "python",
   "name": "python3"
  },
  "language_info": {
   "codemirror_mode": {
    "name": "ipython",
    "version": 3
   },
   "file_extension": ".py",
   "mimetype": "text/x-python",
   "name": "python",
   "nbconvert_exporter": "python",
   "pygments_lexer": "ipython3",
   "version": "3.8.5"
  }
 },
 "nbformat": 4,
 "nbformat_minor": 4
}
